{
 "cells": [
  {
   "cell_type": "code",
   "execution_count": 16,
   "metadata": {},
   "outputs": [
    {
     "name": "stdout",
     "output_type": "stream",
     "text": [
      "::::::\n"
     ]
    }
   ],
   "source": [
    "import re\n",
    "def replace():\n",
    "   \n",
    "    txt=input(\"enter:\")\n",
    "    patterns=[\" \",\",\",\".\"]\n",
    "    for pattern in patterns:\n",
    "     result=re.sub(pattern,\":\",txt) \n",
    "    print(result)\n",
    "replace() "
   ]
  },
  {
   "cell_type": "code",
   "execution_count": 2,
   "metadata": {},
   "outputs": [
    {
     "name": "stdout",
     "output_type": "stream",
     "text": [
      "xcvbnJhcjm,K\n"
     ]
    }
   ],
   "source": [
    "import re\n",
    "def convert():\n",
    "    snake=input(\"Enter snake case: \")\n",
    "    result = re.sub(r'_([a-z])',lambda match:match.group(1).upper(),snake)\n",
    "    print (result)\n",
    "convert()"
   ]
  },
  {
   "cell_type": "code",
   "execution_count": 29,
   "metadata": {},
   "outputs": [
    {
     "name": "stdout",
     "output_type": "stream",
     "text": [
      "<re.Match object; span=(0, 11), match='adfghjjhgfb'>\n"
     ]
    }
   ],
   "source": [
    "import re\n",
    "def matchol():\n",
    "    pattern=r'a.*b'\n",
    "    txt=input(\"enter the string: \")\n",
    "    x=re.search(pattern,txt)\n",
    "    print(x)\n",
    "matchol()"
   ]
  },
  {
   "cell_type": "code",
   "execution_count": 7,
   "metadata": {},
   "outputs": [
    {
     "name": "stdout",
     "output_type": "stream",
     "text": [
      "['', 'Al', 'Mat', 'Y']\n"
     ]
    }
   ],
   "source": [
    "import re\n",
    "def split():\n",
    "    txt=input(\"Enter the word: \")\n",
    "    pattern=r'(?=[A-Z])'\n",
    "    res=re.split(pattern,txt)\n",
    "    print(res)\n",
    "split()"
   ]
  },
  {
   "cell_type": "code",
   "execution_count": 14,
   "metadata": {},
   "outputs": [
    {
     "name": "stdout",
     "output_type": "stream",
     "text": [
      "ala_sal\n"
     ]
    }
   ],
   "source": [
    "import re\n",
    "def camel():\n",
    "    camel=input(\"Enter: \")\n",
    "    res=re.sub((r'(?=[A-Z])'),\"_\",camel)\n",
    "    if res[0]=='_':\n",
    "        res=res[1:]\n",
    "    r=res.lower()\n",
    "\n",
    "    print(r)\n",
    "camel()"
   ]
  },
  {
   "cell_type": "code",
   "execution_count": 8,
   "metadata": {},
   "outputs": [
    {
     "name": "stdout",
     "output_type": "stream",
     "text": [
      " Hello Almaty\n"
     ]
    }
   ],
   "source": [
    "import re\n",
    "def space():\n",
    "    txt=input(\"Enter: \")\n",
    "    res=re.sub((r'(?=[A-Z])'),\" \",txt)\n",
    "    print(res)\n",
    "space()"
   ]
  },
  {
   "cell_type": "code",
   "execution_count": 24,
   "metadata": {},
   "outputs": [
    {
     "name": "stdout",
     "output_type": "stream",
     "text": [
      "<re.Match object; span=(0, 4), match='Assj'>\n"
     ]
    }
   ],
   "source": [
    "import re\n",
    "def matchSS():\n",
    " pattern=r'\\A[A-Z]+(:?[a-z])*'\n",
    " txt=input(\"enter the string: \")\n",
    " x=re.search(pattern,txt)\n",
    " print(x)\n",
    "matchSS()"
   ]
  },
  {
   "cell_type": "code",
   "execution_count": 23,
   "metadata": {},
   "outputs": [
    {
     "name": "stdout",
     "output_type": "stream",
     "text": [
      "<re.Match object; span=(0, 5), match='hel_a'>\n"
     ]
    }
   ],
   "source": [
    "import re\n",
    "def matchh():\n",
    "    pattern=r'[a-z]+(:?_[a-z])*'\n",
    "    txt=input(\"enter the string: \")\n",
    "    x=re.search(pattern,txt)\n",
    "    print(x)\n",
    "matchh()"
   ]
  },
  {
   "cell_type": "code",
   "execution_count": 22,
   "metadata": {},
   "outputs": [
    {
     "name": "stdout",
     "output_type": "stream",
     "text": [
      "<re.Match object; span=(0, 3), match='abb'>\n"
     ]
    }
   ],
   "source": [
    "import re\n",
    "def matchbb():\n",
    "   patterns=[\"abb\",\"abbb\"]\n",
    "   txt=input (\"Enter a string: \")\n",
    "   for pattern in  patterns:\n",
    "    x=re.search(pattern,txt)\n",
    "      \n",
    "    if x :\n",
    "      print(x)\n",
    "      return\n",
    "   \n",
    "   print(\"None\")  \n",
    "matchbb()\n"
   ]
  },
  {
   "cell_type": "code",
   "execution_count": 4,
   "metadata": {},
   "outputs": [
    {
     "name": "stdout",
     "output_type": "stream",
     "text": [
      "it does not match\n"
     ]
    }
   ],
   "source": [
    "import re\n",
    "def matchS(s):\n",
    "    p=\"ab*\"\n",
    "    if re.fullmatch(p,s):\n",
    "        return True\n",
    "    else:\n",
    "        return False \n",
    "    \n",
    "def txt():\n",
    "    intr=input(\"Enter a string: \")\n",
    "    if matchS(intr):\n",
    "        print(\"it matches\")\n",
    "    else:\n",
    "        print(\"it does not match\")\n",
    "txt()\n"
   ]
  }
 ],
 "metadata": {
  "kernelspec": {
   "display_name": "Python 3",
   "language": "python",
   "name": "python3"
  },
  "language_info": {
   "codemirror_mode": {
    "name": "ipython",
    "version": 3
   },
   "file_extension": ".py",
   "mimetype": "text/x-python",
   "name": "python",
   "nbconvert_exporter": "python",
   "pygments_lexer": "ipython3",
   "version": "3.11.9"
  }
 },
 "nbformat": 4,
 "nbformat_minor": 2
}
