{
 "cells": [
  {
   "cell_type": "code",
   "execution_count": 24,
   "metadata": {},
   "outputs": [
    {
     "name": "stdout",
     "output_type": "stream",
     "text": [
      "Interface Status\n",
      "================================================================================\n",
      "DN                                                 Description           Speed    MTU  \n",
      "-------------------------------------------------- --------------------  ------  ------\n",
      "topology/pod-1/node-201/sys/phys-[eth1/33] \t \t\t\t inherit   9150\n",
      "topology/pod-1/node-201/sys/phys-[eth1/34] \t \t\t\t inherit   9150\n",
      "topology/pod-1/node-201/sys/phys-[eth1/35] \t \t\t\t inherit   9150\n",
      "topology/pod-1/node-201/sys/phys-[eth1/36] \t \t\t\t inherit   9150\n",
      "topology/pod-1/node-201/sys/phys-[eth1/1] \t \t\t\t inherit   9150\n",
      "topology/pod-1/node-201/sys/phys-[eth1/2] \t \t\t\t inherit   9150\n",
      "topology/pod-1/node-201/sys/phys-[eth1/3] \t \t\t\t inherit   9150\n",
      "topology/pod-1/node-201/sys/phys-[eth1/4] \t \t\t\t inherit   9150\n",
      "topology/pod-1/node-201/sys/phys-[eth1/5] \t \t\t\t inherit   9150\n",
      "topology/pod-1/node-201/sys/phys-[eth1/6] \t \t\t\t inherit   9150\n",
      "topology/pod-1/node-201/sys/phys-[eth1/7] \t \t\t\t inherit   9150\n",
      "topology/pod-1/node-201/sys/phys-[eth1/8] \t \t\t\t inherit   9150\n",
      "topology/pod-1/node-201/sys/phys-[eth1/9] \t \t\t\t inherit   9150\n",
      "topology/pod-1/node-201/sys/phys-[eth1/10] \t \t\t\t inherit   9150\n",
      "topology/pod-1/node-201/sys/phys-[eth1/11] \t \t\t\t inherit   9150\n",
      "topology/pod-1/node-201/sys/phys-[eth1/12] \t \t\t\t inherit   9150\n",
      "topology/pod-1/node-201/sys/phys-[eth1/13] \t \t\t\t inherit   9150\n",
      "topology/pod-1/node-201/sys/phys-[eth1/14] \t \t\t\t inherit   9150\n"
     ]
    }
   ],
   "source": [
    "import json\n",
    "with open(\"C:/Users/Asus/Downloads/sample-data.json\",'r') as file:\n",
    "    data=json.load(file)\n",
    "print(\"Interface Status\")\n",
    "print(\"================================================================================\")\n",
    "print(\"DN                                                 Description           Speed    MTU  \")\n",
    "print(\"-------------------------------------------------- --------------------  ------  ------\")\n",
    "for imdata in data[\"imdata\"]:\n",
    "          for i in imdata:\n",
    "           for j in imdata[i]: \n",
    "            print(imdata[i][j][\"dn\"],\"\\t\", \"\\t\\t\\t\"  , imdata[i][j][\"speed\"] ,\" \"  ,  imdata[i][j][\"mtu\"])"
   ]
  }
 ],
 "metadata": {
  "kernelspec": {
   "display_name": "Python 3",
   "language": "python",
   "name": "python3"
  },
  "language_info": {
   "codemirror_mode": {
    "name": "ipython",
    "version": 3
   },
   "file_extension": ".py",
   "mimetype": "text/x-python",
   "name": "python",
   "nbconvert_exporter": "python",
   "pygments_lexer": "ipython3",
   "version": "3.11.9"
  }
 },
 "nbformat": 4,
 "nbformat_minor": 2
}
