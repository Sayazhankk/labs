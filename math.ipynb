{
 "cells": [
  {
   "cell_type": "code",
   "execution_count": 8,
   "metadata": {},
   "outputs": [
    {
     "name": "stdout",
     "output_type": "stream",
     "text": [
      "30.0\n"
     ]
    }
   ],
   "source": [
    "import math\n",
    "l=int(input(\"Enter a length: \"))\n",
    "h=int(input(\"Enter a heigth: \"))\n",
    "area=l*h\n",
    "print(float(area))"
   ]
  },
  {
   "cell_type": "code",
   "execution_count": 6,
   "metadata": {},
   "outputs": [
    {
     "name": "stdout",
     "output_type": "stream",
     "text": [
      "624\n"
     ]
    }
   ],
   "source": [
    "import math\n",
    "s=int(input(\"Enter the number of sizes: \"))\n",
    "l=int(input(\"Enter the length: \"))\n",
    "x=math.pi\n",
    "tan=math.tan\n",
    "area=(s*(l**2))/4*tan(x/4)\n",
    "print(int(area))"
   ]
  },
  {
   "cell_type": "code",
   "execution_count": 2,
   "metadata": {},
   "outputs": [
    {
     "name": "stdout",
     "output_type": "stream",
     "text": [
      "27.5\n"
     ]
    }
   ],
   "source": [
    "import math\n",
    "h=float(input(\"Enter a height: \"))\n",
    "b1=float(input(\"Enter a firdt base: \"))\n",
    "b2=float(input(\"Enter a second base: \"))\n",
    "area=h/2*(b1+b2)\n",
    "print(area)"
   ]
  },
  {
   "cell_type": "code",
   "execution_count": 3,
   "metadata": {},
   "outputs": [
    {
     "name": "stdout",
     "output_type": "stream",
     "text": [
      "0.2617993877991494\n"
     ]
    }
   ],
   "source": [
    "import math\n",
    "n=float(input(\"Enter a degree: \"))\n",
    "x=math.pi\n",
    "radian=n*(x/180)\n",
    "print(radian)"
   ]
  }
 ],
 "metadata": {
  "kernelspec": {
   "display_name": "Python 3",
   "language": "python",
   "name": "python3"
  },
  "language_info": {
   "codemirror_mode": {
    "name": "ipython",
    "version": 3
   },
   "file_extension": ".py",
   "mimetype": "text/x-python",
   "name": "python",
   "nbconvert_exporter": "python",
   "pygments_lexer": "ipython3",
   "version": "3.11.9"
  }
 },
 "nbformat": 4,
 "nbformat_minor": 2
}
