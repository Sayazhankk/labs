{
 "cells": [
  {
   "cell_type": "code",
   "execution_count": 3,
   "metadata": {},
   "outputs": [
    {
     "name": "stdout",
     "output_type": "stream",
     "text": [
      "0\n",
      "2\n",
      "4\n",
      "6\n",
      "8\n",
      "10\n",
      "12\n",
      "14\n",
      "16\n",
      "18\n",
      "20\n",
      "22\n",
      "24\n"
     ]
    }
   ],
   "source": [
    "class EvenNum:\n",
    "    def __init__(self):\n",
    "        self.a=0\n",
    "        self.n=int(input(\"Enter an n: \"))\n",
    "    def __iter__(self):\n",
    "        return self\n",
    "    def __next__(self):\n",
    "        while self.a <=self.n:\n",
    "            x=self.a\n",
    "            self.a+=1\n",
    "            if x%2==0:\n",
    "        \n",
    "                return x\n",
    "        else:\n",
    "            raise StopIteration\n",
    "        \n",
    "myclass=EvenNum()\n",
    "myiter=iter(myclass)\n",
    "for x in myiter:\n",
    " print(x)"
   ]
  },
  {
   "cell_type": "code",
   "execution_count": 5,
   "metadata": {},
   "outputs": [
    {
     "name": "stdout",
     "output_type": "stream",
     "text": [
      "0\n",
      "12\n",
      "24\n"
     ]
    }
   ],
   "source": [
    "class Divisible():\n",
    "    def __init__(self):\n",
    "        self.a=0\n",
    "        self.n=int(input(\"Enter an n: \"))\n",
    "    def __iter__(self):\n",
    "        return self\n",
    "    def __next__(self):\n",
    "        while self.a <= self.n:\n",
    "            x=self.a\n",
    "            self.a+=1\n",
    "            if x%3==0 and x%4==0:\n",
    "                return x\n",
    "            \n",
    "        else:\n",
    "            raise StopIteration\n",
    "myclass=Divisible()\n",
    "myiter=iter(myclass)\n",
    "for x in myiter:\n",
    "    print(x)"
   ]
  },
  {
   "cell_type": "code",
   "execution_count": 9,
   "metadata": {},
   "outputs": [
    {
     "name": "stdout",
     "output_type": "stream",
     "text": [
      "1\n",
      "4\n",
      "9\n",
      "16\n"
     ]
    }
   ],
   "source": [
    "class Squares():\n",
    "    def __init__(self):\n",
    "        self.a=int(input(\"Enter an a: \"))\n",
    "        self.b=int(input(\"Enter a b: \"))\n",
    "    def __iter__ (self):\n",
    "        return self\n",
    "    def __next__(self):\n",
    "        for x in range(self.a,self.b):\n",
    "            \n",
    "            x=self.a\n",
    "            self.a+=1\n",
    "            y=x**2\n",
    "            return y\n",
    "        else:\n",
    "            raise StopIteration\n",
    "myclass=Squares()    \n",
    "myiter=iter(myclass)\n",
    "for x in myiter:\n",
    "    print(x)"
   ]
  },
  {
   "cell_type": "code",
   "execution_count": 15,
   "metadata": {},
   "outputs": [
    {
     "name": "stdout",
     "output_type": "stream",
     "text": [
      "5\n",
      "4\n",
      "3\n",
      "2\n",
      "1\n",
      "0\n"
     ]
    }
   ],
   "source": [
    "class Down():\n",
    "    def __init__(self):\n",
    "        self.a=0\n",
    "        self.n=int(input(\"Enter an n: \"))\n",
    "    def __iter__(self):\n",
    "        return self\n",
    "    def __next__(self):\n",
    "        if self.a<=self.n:\n",
    "            x=self.n\n",
    "            self.n-=1\n",
    "            return x\n",
    "        else:\n",
    "            raise StopIteration\n",
    "\n",
    "myclass=Down()\n",
    "myiter=iter(myclass)\n",
    "for x in myiter :\n",
    "    print(x)\n"
   ]
  },
  {
   "cell_type": "code",
   "execution_count": null,
   "metadata": {},
   "outputs": [
    {
     "name": "stdout",
     "output_type": "stream",
     "text": [
      "1\n",
      "4\n",
      "9\n",
      "16\n",
      "25\n"
     ]
    },
    {
     "ename": "NameError",
     "evalue": "name 'Stopiter' is not defined",
     "output_type": "error",
     "traceback": [
      "\u001b[1;31m---------------------------------------------------------------------------\u001b[0m",
      "\u001b[1;31mNameError\u001b[0m                                 Traceback (most recent call last)",
      "Cell \u001b[1;32mIn[6], line 21\u001b[0m\n\u001b[0;32m     19\u001b[0m myclass\u001b[38;5;241m=\u001b[39mSquare()\n\u001b[0;32m     20\u001b[0m myiter\u001b[38;5;241m=\u001b[39m\u001b[38;5;28miter\u001b[39m(myclass)\n\u001b[1;32m---> 21\u001b[0m \u001b[38;5;28;43;01mfor\u001b[39;49;00m\u001b[43m \u001b[49m\u001b[43mx\u001b[49m\u001b[43m \u001b[49m\u001b[38;5;129;43;01min\u001b[39;49;00m\u001b[43m \u001b[49m\u001b[43mmyiter\u001b[49m\u001b[43m:\u001b[49m\n\u001b[0;32m     22\u001b[0m \u001b[43m \u001b[49m\u001b[38;5;28;43mprint\u001b[39;49m\u001b[43m(\u001b[49m\u001b[43mx\u001b[49m\u001b[43m)\u001b[49m\n",
      "Cell \u001b[1;32mIn[6], line 18\u001b[0m, in \u001b[0;36mSquare.__next__\u001b[1;34m(self)\u001b[0m\n\u001b[0;32m     16\u001b[0m  \u001b[38;5;28;01mreturn\u001b[39;00m y\n\u001b[0;32m     17\u001b[0m \u001b[38;5;28;01melse\u001b[39;00m :\n\u001b[1;32m---> 18\u001b[0m  \u001b[38;5;28;01mraise\u001b[39;00m \u001b[43mStopiter\u001b[49m\n",
      "\u001b[1;31mNameError\u001b[0m: name 'Stopiter' is not defined"
     ]
    }
   ],
   "source": [
    "class Square:\n",
    " def __init__(self):\n",
    "  self.a=1\n",
    "  self.n=int(input(\"Enetr an n: \"))\n",
    "\n",
    " def __iter__(self):\n",
    " \n",
    "  return self\n",
    " def __next__(self):\n",
    "\n",
    "  if self.a <= self.n:\n",
    "\n",
    "   x=self.a\n",
    "   self.a+=1\n",
    "   y=x**2\n",
    "   return y\n",
    "  else :\n",
    "   raise Stopiteration\n",
    "myclass=Square()\n",
    "myiter=iter(myclass)\n",
    "for x in myiter:\n",
    " print(x)\n"
   ]
  }
 ],
 "metadata": {
  "kernelspec": {
   "display_name": "Python 3",
   "language": "python",
   "name": "python3"
  },
  "language_info": {
   "codemirror_mode": {
    "name": "ipython",
    "version": 3
   },
   "file_extension": ".py",
   "mimetype": "text/x-python",
   "name": "python",
   "nbconvert_exporter": "python",
   "pygments_lexer": "ipython3",
   "version": "3.11.9"
  }
 },
 "nbformat": 4,
 "nbformat_minor": 2
}
